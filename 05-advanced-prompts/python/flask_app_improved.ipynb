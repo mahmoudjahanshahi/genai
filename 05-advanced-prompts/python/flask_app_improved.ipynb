{
 "cells": [
  {
   "cell_type": "markdown",
   "id": "32c15989",
   "metadata": {},
   "source": [
    "# Self-refine, critique the results\n",
    "\n",
    "## Using ChatGPT\n",
    "\n",
    "### prompt:\n",
    "```\n",
    "from flask import Flask, request\n",
    "\n",
    "app = Flask(__name__)\n",
    "\n",
    "@app.route('/')\n",
    "def hello():\n",
    "    name = request.args.get('name', 'World')\n",
    "    return f'Hello, {name}!'\n",
    "\n",
    "if __name__ == '__main__':\n",
    "    app.run()\n",
    " \n",
    "\n",
    "make 3 improvments in this code: \n",
    "1. change to ipynb for better accessibility\n",
    "2. improve performance\n",
    "3. improve architecture\n",
    "```\n",
    "\n",
    "### response:"
   ]
  },
  {
   "cell_type": "markdown",
   "id": "07904ea5",
   "metadata": {},
   "source": [
    "# Flask App – Improved Version\n",
    "This notebook demonstrates a simple **Flask** application with three key improvements:\n",
    "1. *Notebook format* for interactive exploration.\n",
    "2. *Performance tweaks* (threading + production guidance).\n",
    "3. *Factory-based architecture* for easier testing and scalability.\n"
   ]
  },
  {
   "cell_type": "code",
   "execution_count": null,
   "id": "b1e340f0",
   "metadata": {},
   "outputs": [],
   "source": [
    "# !pip install Flask gunicorn  # Uncomment if Flask isn't installed"
   ]
  },
  {
   "cell_type": "code",
   "execution_count": 1,
   "id": "5f0238e9",
   "metadata": {},
   "outputs": [
    {
     "name": "stdout",
     "output_type": "stream",
     "text": [
      "App created! You can now run it with a production server like Gunicorn or the built‑in dev server.\n"
     ]
    }
   ],
   "source": [
    "from flask import Flask, request\n",
    "\n",
    "def create_app():\n",
    "    \"\"\"Application factory – returns a configured Flask app instance.\"\"\"\n",
    "    app = Flask(__name__)\n",
    "\n",
    "    @app.route('/')\n",
    "    def hello():\n",
    "        name = request.args.get('name', 'World')\n",
    "        return f'Hello, {name}!'\n",
    "\n",
    "    return app\n",
    "\n",
    "# Instantiate the app\n",
    "app = create_app()\n",
    "print('App created! You can now run it with a production server like Gunicorn or the built‑in dev server.')"
   ]
  },
  {
   "cell_type": "markdown",
   "id": "c098fc19",
   "metadata": {},
   "source": [
    "## Running the Development Server"
   ]
  },
  {
   "cell_type": "code",
   "execution_count": null,
   "id": "d2a0dcd5",
   "metadata": {},
   "outputs": [
    {
     "name": "stdout",
     "output_type": "stream",
     "text": [
      " * Serving Flask app '__main__'\n",
      " * Debug mode: off\n"
     ]
    },
    {
     "name": "stderr",
     "output_type": "stream",
     "text": [
      "WARNING: This is a development server. Do not use it in a production deployment. Use a production WSGI server instead.\n",
      " * Running on all addresses (0.0.0.0)\n",
      " * Running on http://127.0.0.1:5000\n",
      " * Running on http://10.0.1.45:5000\n",
      "Press CTRL+C to quit\n",
      "127.0.0.1 - - [24/May/2025 20:37:22] \"GET / HTTP/1.1\" 200 -\n"
     ]
    }
   ],
   "source": [
    "# For quick local testing **inside** the notebook (not recommended for production)\n",
    "# The 'threaded=True' flag allows basic concurrency.\n",
    "# Stop the cell to terminate the server.\n",
    "if __name__ == '__main__':\n",
    "    app.run(host='0.0.0.0', port=5000, debug=False, threaded=True)"
   ]
  },
  {
   "cell_type": "markdown",
   "id": "9f3815fc",
   "metadata": {},
   "source": [
    "## Running in Production\n",
    "For production deployments, use a WSGI server such as **Gunicorn**:\n",
    "```bash\n",
    "gunicorn -w 4 -k gthread -t 120 'app:create_app()'\n",
    "```\n",
    "This launches 4 worker threads (`-w 4`) with a threaded worker class for better performance."
   ]
  },
  {
   "cell_type": "markdown",
   "id": "e5998c30",
   "metadata": {},
   "source": [
    "### prompt:\n",
    "\n",
    "this version is not good enough, improve it. no need to create a new ipynb this time, just give me the updated code.\n",
    "\n",
    "### response:"
   ]
  },
  {
   "cell_type": "code",
   "execution_count": 1,
   "id": "56a37a96",
   "metadata": {},
   "outputs": [
    {
     "name": "stderr",
     "output_type": "stream",
     "text": [
      "[2025-05-24 20:48:42,485] WARNING in 3396086054: Flask-Compress not found; responses are uncompressed.\n"
     ]
    },
    {
     "name": "stdout",
     "output_type": "stream",
     "text": [
      " * Serving Flask app '__main__'\n",
      " * Debug mode: off\n"
     ]
    },
    {
     "name": "stderr",
     "output_type": "stream",
     "text": [
      "WARNING: This is a development server. Do not use it in a production deployment. Use a production WSGI server instead.\n",
      " * Running on all addresses (0.0.0.0)\n",
      " * Running on http://127.0.0.1:5000\n",
      " * Running on http://10.0.1.45:5000\n",
      "Press CTRL+C to quit\n"
     ]
    },
    {
     "name": "stderr",
     "output_type": "stream",
     "text": [
      "127.0.0.1 - - [24/May/2025 20:48:46] \"GET / HTTP/1.1\" 200 -\n",
      "127.0.0.1 - - [24/May/2025 20:49:14] \"GET / HTTP/1.1\" 200 -\n"
     ]
    }
   ],
   "source": [
    "\"\"\"\n",
    "Minimal—but production-minded—Flask application.\n",
    "\n",
    "Key upgrades vs. the previous version\n",
    "-------------------------------------\n",
    "1. **Factory pattern + Blueprint** – clean separation for testing & scaling.\n",
    "2. **JSON responses** + `/healthz` endpoint for better observability.\n",
    "3. **Structured logging** and optional gzip compression (Flask-Compress).\n",
    "4. **Config via env vars** so the same code runs locally or in prod.\n",
    "\"\"\"\n",
    "\n",
    "import logging\n",
    "import os\n",
    "from flask import Flask, Blueprint, request, jsonify\n",
    "\n",
    "# --------------------------------------------------------------------------- #\n",
    "# Application factory\n",
    "# --------------------------------------------------------------------------- #\n",
    "def create_app() -> Flask:\n",
    "    app = Flask(__name__)\n",
    "\n",
    "    # ---- Core configuration -------------------------------------------------\n",
    "    app.config.from_mapping(\n",
    "        JSON_SORT_KEYS=False,\n",
    "        ENV=os.getenv(\"FLASK_ENV\", \"production\"),\n",
    "        COMPRESS_MIMETYPES=[\"application/json\", \"text/html\"],\n",
    "        COMPRESS_LEVEL=6,\n",
    "    )\n",
    "\n",
    "    # ---- Extensions (optional) ---------------------------------------------\n",
    "    try:\n",
    "        # `pip install Flask-Compress` for transparent gzip/deflate\n",
    "        from flask_compress import Compress\n",
    "\n",
    "        Compress(app)\n",
    "    except ImportError:  # keep running if the lib isn't installed\n",
    "        app.logger.warning(\"Flask-Compress not found; responses are uncompressed.\")\n",
    "\n",
    "    # ---- Blueprints ---------------------------------------------------------\n",
    "    app.register_blueprint(core_bp)\n",
    "\n",
    "    # ---- Structured logging -------------------------------------------------\n",
    "    _configure_logging(app)\n",
    "\n",
    "    return app\n",
    "\n",
    "\n",
    "# --------------------------------------------------------------------------- #\n",
    "# Blueprint with routes\n",
    "# --------------------------------------------------------------------------- #\n",
    "core_bp = Blueprint(\"core\", __name__)\n",
    "\n",
    "\n",
    "@core_bp.route(\"/\")\n",
    "def index():\n",
    "    \"\"\"Greet the caller by name (using JSON).\"\"\"\n",
    "    name = request.args.get(\"name\", \"World\")\n",
    "    return jsonify(message=f\"Hello, {name}!\")\n",
    "\n",
    "\n",
    "@core_bp.route(\"/healthz\")\n",
    "def healthcheck():\n",
    "    \"\"\"Simple health probe for load-balancers / uptime monitors.\"\"\"\n",
    "    return jsonify(status=\"ok\"), 200\n",
    "\n",
    "\n",
    "# --------------------------------------------------------------------------- #\n",
    "# Logging helpers\n",
    "# --------------------------------------------------------------------------- #\n",
    "def _configure_logging(app: Flask) -> None:\n",
    "    \"\"\"Send logs to STDOUT with timestamps—useful in Docker/Heroku/GCP/etc.\"\"\"\n",
    "    handler = logging.StreamHandler()\n",
    "    handler.setFormatter(\n",
    "        logging.Formatter(\"[%(asctime)s] %(levelname)s in %(module)s: %(message)s\")\n",
    "    )\n",
    "    if not app.logger.handlers:\n",
    "        app.logger.addHandler(handler)\n",
    "    app.logger.setLevel(logging.INFO)\n",
    "\n",
    "\n",
    "# --------------------------------------------------------------------------- #\n",
    "# WSGI entrypoint\n",
    "# --------------------------------------------------------------------------- #\n",
    "app = create_app()\n",
    "\n",
    "if __name__ == \"__main__\":\n",
    "    # Dev server—fine for local use. In prod, prefer:\n",
    "    #   gunicorn -w 4 -k gevent app:app\n",
    "    app.run(\n",
    "        host=\"0.0.0.0\",\n",
    "        port=int(os.getenv(\"PORT\", \"5000\")),\n",
    "        debug=os.getenv(\"FLASK_DEBUG\", \"0\") == \"1\",\n",
    "        threaded=True,\n",
    "    )"
   ]
  }
 ],
 "metadata": {
  "kernelspec": {
   "display_name": "Python 3",
   "language": "python",
   "name": "python3"
  },
  "language_info": {
   "codemirror_mode": {
    "name": "ipython",
    "version": 3
   },
   "file_extension": ".py",
   "mimetype": "text/x-python",
   "name": "python",
   "nbconvert_exporter": "python",
   "pygments_lexer": "ipython3",
   "version": "3.10.13"
  }
 },
 "nbformat": 4,
 "nbformat_minor": 5
}
