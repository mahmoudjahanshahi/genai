{
 "cells": [
  {
   "cell_type": "code",
   "execution_count": 1,
   "metadata": {},
   "outputs": [],
   "source": [
    "from openai import AzureOpenAI\n",
    "import os\n",
    "from dotenv import load_dotenv\n",
    "\n",
    "# load environment variables from .env file\n",
    "load_dotenv()\n",
    "\n",
    "# configure Azure OpenAI service client \n",
    "client = AzureOpenAI(\n",
    "  api_key=os.environ['AZURE_OPENAI_API_KEY'],  # this is also the default, it can be omitted\n",
    "  api_version = os.environ.get(\"AZURE_OPENAI_API_VERSION\")#\"2023-05-15\"\n",
    "  )\n",
    "\n",
    "deployment=os.environ['AZURE_OPENAI_DEPLOYMENT']"
   ]
  },
  {
   "cell_type": "code",
   "execution_count": 2,
   "metadata": {},
   "outputs": [
    {
     "name": "stdout",
     "output_type": "stream",
     "text": [
      "Foot pain can result from various issues, and the precise cause can depend on the location and type of pain as well as any accompanying symptoms. Common possibilities include:\n",
      "\n",
      "1. **Injury or Trauma:** Such as sprains, fractures, or bruises.\n",
      "2. **Overuse:** Activities that involve repeated impact on the foot can lead to stress fractures or tendinitis.\n",
      "3. **Inflammation or Arthritis:** Including osteoarthritis, rheumatoid arthritis, or gout.\n",
      "4. **Nerve-related issues:** Such as neuropathy, tarsal tunnel syndrome, or Morton's neuroma.\n",
      "5. **Infections or skin issues:** Like athlete's foot, warts, or ingrown toenails.\n",
      "\n",
      "It's important to consider other symptoms like swelling, redness, or changes in skin color, and any recent activities that may have caused or contributed to the pain. If the pain persists, is severe, or is accompanied by other concerning signs, it's important to consult a healthcare provider for proper diagnosis and treatment.\n"
     ]
    }
   ],
   "source": [
    "# Create your first prompt\n",
    "text_prompt = \"My foot hurts, what can be wrong?\"\n",
    "\n",
    "response = client.chat.completions.create(\n",
    "  model=deployment,\n",
    "  messages = [\n",
    "      {\"role\":\"system\", \"content\":\"I'm a doctor, specialist on surgery\"},\n",
    "      {\"role\":\"user\",\"content\":text_prompt}])\n",
    "\n",
    "\n",
    "print(response.choices[0].message.content)"
   ]
  }
 ],
 "metadata": {
  "kernelspec": {
   "display_name": "Python 3",
   "language": "python",
   "name": "python3"
  },
  "language_info": {
   "codemirror_mode": {
    "name": "ipython",
    "version": 3
   },
   "file_extension": ".py",
   "mimetype": "text/x-python",
   "name": "python",
   "nbconvert_exporter": "python",
   "pygments_lexer": "ipython3",
   "version": "3.10.13"
  },
  "orig_nbformat": 4
 },
 "nbformat": 4,
 "nbformat_minor": 2
}
